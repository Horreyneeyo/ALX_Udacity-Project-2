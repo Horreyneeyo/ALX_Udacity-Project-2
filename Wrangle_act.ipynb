{
 "cells": [
  {
   "cell_type": "markdown",
   "metadata": {},
   "source": [
    "\n",
    "# Project: Data Wrangling of WeRateDogs Dataset\n",
    "\n",
    "## Table of Contents\n",
    "<ul>\n",
    "<li><a href=\"#intro\">Introduction</a></li>\n",
    "<li><a href=\"#eda\">Data Gathering</a></li>\n",
    "<li><a href=\"#eda\">Data Assessment</a></li>\n",
    "<li><a href=\"#eda\">Data Wrangling and Cleaning</a></li>\n",
    "<li><a href=\"#eda\">Data Analysis and Visualization</a></li>\n",
    "<li><a href=\"#conclusions\">Summary and Conclusions</a></li>\n",
    "</ul>"
   ]
  },
  {
   "cell_type": "markdown",
   "metadata": {},
   "source": [
    "<a id='intro'></a>\n",
    "## Introduction\n",
    "\n",
    "### Datasets Description \n",
    "\n",
    ">  This project work contains datasets of twitter user @dog_rates, also known as 'WeRateDogs'. This is a twitter handle \\that rates people's dogs with a humorous comment about the dog. @dog_rates datasets used in this data analysis contains tweet data of over 5000+ which were obtained from three sources; downloaded flatfile (CSV), and culled data from the internet and data obtained directly from twitter API. The aim of this data analysis work is to gather these data from its sources, evaluate and assess these datasets visually and programmatically for its quality and tidiness, clean and tidy the data, analyse and visualize content of the data in a written report. \n",
    "\n",
    "**Some of the data analysis project questions to be answered:** \n",
    "- Explore the distribution of dog mean ratings\n",
    "- Explore the relationship between the dogs names and retweet counts\n",
    "- Explore the relationship between display_text_range for dogs' tweet and its favorite count over a period of time\n"
   ]
  },
  {
   "cell_type": "code",
   "execution_count": 196,
   "metadata": {},
   "outputs": [],
   "source": [
    "# import packages for data analysis\n",
    "import pandas as pd\n",
    "import numpy as np\n",
    "import seaborn as sns\n",
    "import matplotlib.pyplot as plt\n",
    "import requests \n",
    "import os\n",
    "import json\n",
    "\n",
    "import tweepy\n",
    "from tweepy import OAuthHandler\n",
    "import json\n",
    "from timeit import default_timer as timer"
   ]
  },
  {
   "cell_type": "markdown",
   "metadata": {},
   "source": [
    "<a id='wrangling'></a>\n",
    "## Data Gathering\n",
    "\n",
    "- Import dataset from downloaded flat file\n",
    "- Programmatically download dataset from the Internet using Requests library\n",
    "- Query WeRateDogs twitter archive data using Twitter API or more appropriately use the given file "
   ]
  },
  {
   "cell_type": "markdown",
   "metadata": {},
   "source": [
    "##### Gather Data 1:  from CSV file"
   ]
  },
  {
   "cell_type": "code",
   "execution_count": 197,
   "metadata": {},
   "outputs": [
    {
     "data": {
      "text/html": [
       "<div>\n",
       "<style scoped>\n",
       "    .dataframe tbody tr th:only-of-type {\n",
       "        vertical-align: middle;\n",
       "    }\n",
       "\n",
       "    .dataframe tbody tr th {\n",
       "        vertical-align: top;\n",
       "    }\n",
       "\n",
       "    .dataframe thead th {\n",
       "        text-align: right;\n",
       "    }\n",
       "</style>\n",
       "<table border=\"1\" class=\"dataframe\">\n",
       "  <thead>\n",
       "    <tr style=\"text-align: right;\">\n",
       "      <th></th>\n",
       "      <th>tweet_id</th>\n",
       "      <th>in_reply_to_status_id</th>\n",
       "      <th>in_reply_to_user_id</th>\n",
       "      <th>timestamp</th>\n",
       "      <th>source</th>\n",
       "      <th>text</th>\n",
       "      <th>retweeted_status_id</th>\n",
       "      <th>retweeted_status_user_id</th>\n",
       "      <th>retweeted_status_timestamp</th>\n",
       "      <th>expanded_urls</th>\n",
       "      <th>rating_numerator</th>\n",
       "      <th>rating_denominator</th>\n",
       "      <th>name</th>\n",
       "      <th>doggo</th>\n",
       "      <th>floofer</th>\n",
       "      <th>pupper</th>\n",
       "      <th>puppo</th>\n",
       "    </tr>\n",
       "  </thead>\n",
       "  <tbody>\n",
       "    <tr>\n",
       "      <th>393</th>\n",
       "      <td>825876512159186944</td>\n",
       "      <td>NaN</td>\n",
       "      <td>NaN</td>\n",
       "      <td>2017-01-30 01:21:19 +0000</td>\n",
       "      <td>&lt;a href=\"http://twitter.com/download/iphone\" r...</td>\n",
       "      <td>This is Mo. No one will push him around in the...</td>\n",
       "      <td>NaN</td>\n",
       "      <td>NaN</td>\n",
       "      <td>NaN</td>\n",
       "      <td>https://twitter.com/dog_rates/status/825876512...</td>\n",
       "      <td>11</td>\n",
       "      <td>10</td>\n",
       "      <td>Mo</td>\n",
       "      <td>None</td>\n",
       "      <td>None</td>\n",
       "      <td>None</td>\n",
       "      <td>None</td>\n",
       "    </tr>\n",
       "    <tr>\n",
       "      <th>31</th>\n",
       "      <td>886258384151887873</td>\n",
       "      <td>NaN</td>\n",
       "      <td>NaN</td>\n",
       "      <td>2017-07-15 16:17:19 +0000</td>\n",
       "      <td>&lt;a href=\"http://twitter.com/download/iphone\" r...</td>\n",
       "      <td>This is Waffles. His doggles are pupside down....</td>\n",
       "      <td>NaN</td>\n",
       "      <td>NaN</td>\n",
       "      <td>NaN</td>\n",
       "      <td>https://twitter.com/dog_rates/status/886258384...</td>\n",
       "      <td>13</td>\n",
       "      <td>10</td>\n",
       "      <td>Waffles</td>\n",
       "      <td>None</td>\n",
       "      <td>None</td>\n",
       "      <td>None</td>\n",
       "      <td>None</td>\n",
       "    </tr>\n",
       "  </tbody>\n",
       "</table>\n",
       "</div>"
      ],
      "text/plain": [
       "               tweet_id  in_reply_to_status_id  in_reply_to_user_id  \\\n",
       "393  825876512159186944                    NaN                  NaN   \n",
       "31   886258384151887873                    NaN                  NaN   \n",
       "\n",
       "                     timestamp  \\\n",
       "393  2017-01-30 01:21:19 +0000   \n",
       "31   2017-07-15 16:17:19 +0000   \n",
       "\n",
       "                                                source  \\\n",
       "393  <a href=\"http://twitter.com/download/iphone\" r...   \n",
       "31   <a href=\"http://twitter.com/download/iphone\" r...   \n",
       "\n",
       "                                                  text  retweeted_status_id  \\\n",
       "393  This is Mo. No one will push him around in the...                  NaN   \n",
       "31   This is Waffles. His doggles are pupside down....                  NaN   \n",
       "\n",
       "     retweeted_status_user_id retweeted_status_timestamp  \\\n",
       "393                       NaN                        NaN   \n",
       "31                        NaN                        NaN   \n",
       "\n",
       "                                         expanded_urls  rating_numerator  \\\n",
       "393  https://twitter.com/dog_rates/status/825876512...                11   \n",
       "31   https://twitter.com/dog_rates/status/886258384...                13   \n",
       "\n",
       "     rating_denominator     name doggo floofer pupper puppo  \n",
       "393                  10       Mo  None    None   None  None  \n",
       "31                   10  Waffles  None    None   None  None  "
      ]
     },
     "execution_count": 197,
     "metadata": {},
     "output_type": "execute_result"
    }
   ],
   "source": [
    "#import dataset from downloaded CSV flatfile \n",
    "df1 = pd.read_csv(r'C:\\Users\\omoni\\OneDrive - The University of Manchester\\Huawei Laptop\\DS_ML_AI\\ALT-X\\Project 2\\Submission\\twitter-archive-enhanced.csv')\n",
    "df1.sample(2)"
   ]
  },
  {
   "cell_type": "markdown",
   "metadata": {},
   "source": [
    "##### Gather Data 2:  Download data from Internet source file"
   ]
  },
  {
   "cell_type": "code",
   "execution_count": 198,
   "metadata": {},
   "outputs": [
    {
     "data": {
      "text/html": [
       "<div>\n",
       "<style scoped>\n",
       "    .dataframe tbody tr th:only-of-type {\n",
       "        vertical-align: middle;\n",
       "    }\n",
       "\n",
       "    .dataframe tbody tr th {\n",
       "        vertical-align: top;\n",
       "    }\n",
       "\n",
       "    .dataframe thead th {\n",
       "        text-align: right;\n",
       "    }\n",
       "</style>\n",
       "<table border=\"1\" class=\"dataframe\">\n",
       "  <thead>\n",
       "    <tr style=\"text-align: right;\">\n",
       "      <th></th>\n",
       "      <th>tweet_id</th>\n",
       "      <th>jpg_url</th>\n",
       "      <th>img_num</th>\n",
       "      <th>p1</th>\n",
       "      <th>p1_conf</th>\n",
       "      <th>p1_dog</th>\n",
       "      <th>p2</th>\n",
       "      <th>p2_conf</th>\n",
       "      <th>p2_dog</th>\n",
       "      <th>p3</th>\n",
       "      <th>p3_conf</th>\n",
       "      <th>p3_dog</th>\n",
       "    </tr>\n",
       "  </thead>\n",
       "  <tbody>\n",
       "    <tr>\n",
       "      <th>0</th>\n",
       "      <td>666020888022790149</td>\n",
       "      <td>https://pbs.twimg.com/media/CT4udn0WwAA0aMy.jpg</td>\n",
       "      <td>1</td>\n",
       "      <td>Welsh_springer_spaniel</td>\n",
       "      <td>0.465074</td>\n",
       "      <td>True</td>\n",
       "      <td>collie</td>\n",
       "      <td>0.156665</td>\n",
       "      <td>True</td>\n",
       "      <td>Shetland_sheepdog</td>\n",
       "      <td>0.061428</td>\n",
       "      <td>True</td>\n",
       "    </tr>\n",
       "    <tr>\n",
       "      <th>1</th>\n",
       "      <td>666029285002620928</td>\n",
       "      <td>https://pbs.twimg.com/media/CT42GRgUYAA5iDo.jpg</td>\n",
       "      <td>1</td>\n",
       "      <td>redbone</td>\n",
       "      <td>0.506826</td>\n",
       "      <td>True</td>\n",
       "      <td>miniature_pinscher</td>\n",
       "      <td>0.074192</td>\n",
       "      <td>True</td>\n",
       "      <td>Rhodesian_ridgeback</td>\n",
       "      <td>0.072010</td>\n",
       "      <td>True</td>\n",
       "    </tr>\n",
       "    <tr>\n",
       "      <th>2</th>\n",
       "      <td>666033412701032449</td>\n",
       "      <td>https://pbs.twimg.com/media/CT4521TWwAEvMyu.jpg</td>\n",
       "      <td>1</td>\n",
       "      <td>German_shepherd</td>\n",
       "      <td>0.596461</td>\n",
       "      <td>True</td>\n",
       "      <td>malinois</td>\n",
       "      <td>0.138584</td>\n",
       "      <td>True</td>\n",
       "      <td>bloodhound</td>\n",
       "      <td>0.116197</td>\n",
       "      <td>True</td>\n",
       "    </tr>\n",
       "  </tbody>\n",
       "</table>\n",
       "</div>"
      ],
      "text/plain": [
       "             tweet_id                                          jpg_url  \\\n",
       "0  666020888022790149  https://pbs.twimg.com/media/CT4udn0WwAA0aMy.jpg   \n",
       "1  666029285002620928  https://pbs.twimg.com/media/CT42GRgUYAA5iDo.jpg   \n",
       "2  666033412701032449  https://pbs.twimg.com/media/CT4521TWwAEvMyu.jpg   \n",
       "\n",
       "   img_num                      p1   p1_conf  p1_dog                  p2  \\\n",
       "0        1  Welsh_springer_spaniel  0.465074    True              collie   \n",
       "1        1                 redbone  0.506826    True  miniature_pinscher   \n",
       "2        1         German_shepherd  0.596461    True            malinois   \n",
       "\n",
       "    p2_conf  p2_dog                   p3   p3_conf  p3_dog  \n",
       "0  0.156665    True    Shetland_sheepdog  0.061428    True  \n",
       "1  0.074192    True  Rhodesian_ridgeback  0.072010    True  \n",
       "2  0.138584    True           bloodhound  0.116197    True  "
      ]
     },
     "execution_count": 198,
     "metadata": {},
     "output_type": "execute_result"
    }
   ],
   "source": [
    "# Extract the dataset from internet source\n",
    "\n",
    "folder_name = 'C:\\\\Users\\\\omoni\\\\OneDrive - The University of Manchester\\\\Huawei Laptop\\\\DS_ML_AI\\\\ALT-X\\\\Project 2\\\\Submission'\n",
    "\n",
    "if not os.path.exists(folder_name):\n",
    "    os.makedirs(folder_name)\n",
    "url = 'https://d17h27t6h515a5.cloudfront.net/topher/2017/August/599fd2ad_image-predictions/image-predictions.tsv'\n",
    "response = requests.get(url)\n",
    "with open(os.path.join(folder_name, url.split('/')[-1]), mode='wb') as file:\n",
    "    file.write(response.content)\n",
    "df2 = pd.read_csv(r'C:\\Users\\omoni\\OneDrive - The University of Manchester\\Huawei Laptop\\DS_ML_AI\\ALT-X\\Project 2\\Submission\\image-predictions.tsv', sep='\\t')\n",
    "df2.head(3)"
   ]
  },
  {
   "cell_type": "markdown",
   "metadata": {},
   "source": [
    "##### Gather Data 3:  Query Twitter data"
   ]
  },
  {
   "cell_type": "code",
   "execution_count": 199,
   "metadata": {},
   "outputs": [],
   "source": [
    "\n",
    "# Query Twitter API for each tweet in the Twitter archive and save JSON in a text file\n",
    "# These are hidden to comply with Twitter's API terms and conditions\n",
    "consumer_key = 'HIDDEN'\n",
    "consumer_secret = 'HIDDEN'\n",
    "access_token = 'HIDDEN'\n",
    "access_secret = 'HIDDEN'\n",
    "\n",
    "auth = OAuthHandler(consumer_key, consumer_secret)\n",
    "auth.set_access_token(access_token, access_secret)\n",
    "\n",
    "api = tweepy.API(auth, wait_on_rate_limit=True)\n",
    "\n",
    "# NOTE TO STUDENT WITH MOBILE VERIFICATION ISSUES:\n",
    "# df_1 is a DataFrame with the twitter_archive_enhanced.csv file. You may have to\n",
    "# change line 17 to match the name of your DataFrame with twitter_archive_enhanced.csv\n",
    "# NOTE TO REVIEWER: this student had mobile verification issues so the following\n",
    "# Twitter API code was sent to this student from a Udacity instructor\n",
    "# Tweet IDs for which to gather additional data via Twitter's API\n",
    "tweet_ids = df1.tweet_id.values\n",
    "len(tweet_ids)\n",
    "\n",
    "# Query Twitter's API for JSON data for each tweet ID in the Twitter archive\n",
    "count = 0\n",
    "fails_dict = {}\n",
    "start = timer()\n",
    "# Save each tweet's returned JSON as a new line in a .txt file\n",
    "with open('tweet_json.txt', 'w') as outfile:\n",
    "    # This loop will likely take 20-30 minutes to run because of Twitter's rate limit\n",
    "    for tweet_id in tweet_ids:\n",
    "        count += 1\n",
    "        print(str(count) + \": \" + str(tweet_id))\n",
    "        try:\n",
    "            tweet = api.get_status(tweet_id, tweet_mode='extended')\n",
    "            print(\"Success\")\n",
    "            json.dump(tweet._json, outfile)\n",
    "            outfile.write('\\n')\n",
    "        except tweepy.TweepError as e:\n",
    "            print(\"Fail\")\n",
    "            fails_dict[tweet_id] = e\n",
    "            pass\n",
    "end = timer()\n",
    "print(end - start)\n",
    "print(fails_dict)"
   ]
  },
  {
   "cell_type": "code",
   "execution_count": 200,
   "metadata": {},
   "outputs": [
    {
     "data": {
      "text/html": [
       "<div>\n",
       "<style scoped>\n",
       "    .dataframe tbody tr th:only-of-type {\n",
       "        vertical-align: middle;\n",
       "    }\n",
       "\n",
       "    .dataframe tbody tr th {\n",
       "        vertical-align: top;\n",
       "    }\n",
       "\n",
       "    .dataframe thead th {\n",
       "        text-align: right;\n",
       "    }\n",
       "</style>\n",
       "<table border=\"1\" class=\"dataframe\">\n",
       "  <thead>\n",
       "    <tr style=\"text-align: right;\">\n",
       "      <th></th>\n",
       "      <th>created_at</th>\n",
       "      <th>id</th>\n",
       "      <th>id_str</th>\n",
       "      <th>full_text</th>\n",
       "      <th>truncated</th>\n",
       "      <th>display_text_range</th>\n",
       "      <th>entities</th>\n",
       "      <th>extended_entities</th>\n",
       "      <th>source</th>\n",
       "      <th>in_reply_to_status_id</th>\n",
       "      <th>...</th>\n",
       "      <th>favorite_count</th>\n",
       "      <th>favorited</th>\n",
       "      <th>retweeted</th>\n",
       "      <th>possibly_sensitive</th>\n",
       "      <th>possibly_sensitive_appealable</th>\n",
       "      <th>lang</th>\n",
       "      <th>retweeted_status</th>\n",
       "      <th>quoted_status_id</th>\n",
       "      <th>quoted_status_id_str</th>\n",
       "      <th>quoted_status</th>\n",
       "    </tr>\n",
       "  </thead>\n",
       "  <tbody>\n",
       "    <tr>\n",
       "      <th>0</th>\n",
       "      <td>Tue Aug 01 16:23:56 +0000 2017</td>\n",
       "      <td>892420643555336193</td>\n",
       "      <td>892420643555336193</td>\n",
       "      <td>This is Phineas. He's a mystical boy. Only eve...</td>\n",
       "      <td>False</td>\n",
       "      <td>[0, 85]</td>\n",
       "      <td>{'hashtags': [], 'symbols': [], 'user_mentions...</td>\n",
       "      <td>{'media': [{'id': 892420639486877696, 'id_str'...</td>\n",
       "      <td>&lt;a href=\"http://twitter.com/download/iphone\" r...</td>\n",
       "      <td>NaN</td>\n",
       "      <td>...</td>\n",
       "      <td>39467</td>\n",
       "      <td>False</td>\n",
       "      <td>False</td>\n",
       "      <td>False</td>\n",
       "      <td>False</td>\n",
       "      <td>en</td>\n",
       "      <td>NaN</td>\n",
       "      <td>NaN</td>\n",
       "      <td>NaN</td>\n",
       "      <td>NaN</td>\n",
       "    </tr>\n",
       "  </tbody>\n",
       "</table>\n",
       "<p>1 rows × 31 columns</p>\n",
       "</div>"
      ],
      "text/plain": [
       "                       created_at                  id              id_str  \\\n",
       "0  Tue Aug 01 16:23:56 +0000 2017  892420643555336193  892420643555336193   \n",
       "\n",
       "                                           full_text  truncated  \\\n",
       "0  This is Phineas. He's a mystical boy. Only eve...      False   \n",
       "\n",
       "  display_text_range                                           entities  \\\n",
       "0            [0, 85]  {'hashtags': [], 'symbols': [], 'user_mentions...   \n",
       "\n",
       "                                   extended_entities  \\\n",
       "0  {'media': [{'id': 892420639486877696, 'id_str'...   \n",
       "\n",
       "                                              source  in_reply_to_status_id  \\\n",
       "0  <a href=\"http://twitter.com/download/iphone\" r...                    NaN   \n",
       "\n",
       "   ... favorite_count  favorited retweeted possibly_sensitive  \\\n",
       "0  ...          39467      False     False              False   \n",
       "\n",
       "  possibly_sensitive_appealable lang retweeted_status quoted_status_id  \\\n",
       "0                         False   en              NaN              NaN   \n",
       "\n",
       "  quoted_status_id_str  quoted_status  \n",
       "0                  NaN            NaN  \n",
       "\n",
       "[1 rows x 31 columns]"
      ]
     },
     "execution_count": 200,
     "metadata": {},
     "output_type": "execute_result"
    }
   ],
   "source": [
    "#Query the twitter archive data of WeRateDogs using Tweepy (Twitter API) (actually obtained data from Tweet Json txt file) \n",
    "\n",
    "folder_name = r'C:\\Users\\omoni\\OneDrive - The University of Manchester\\Huawei Laptop\\DS_ML_AI\\ALT-X\\Project 2\\Submission'\n",
    "\n",
    "if not os.path.exists(folder_name):\n",
    "    os.makedirs(folder_name)\n",
    "\n",
    "url = 'https://video.udacity-data.com/topher/2018/November/5be5fb7d_tweet-json/tweet-json.txt'\n",
    "response = requests.get(url)\n",
    "with open(os.path.join(folder_name,url.split('/')[-1]), mode='wb') as file:\n",
    "    file.write(response.content)\n",
    "    \n",
    "with open(r'C:\\Users\\omoni\\OneDrive - The University of Manchester\\Huawei Laptop\\DS_ML_AI\\ALT-X\\Project 2\\Submission\\tweet-json.txt','r') as file:\n",
    "    lines = file.readlines()\n",
    "\n",
    "data = [ ]\n",
    "\n",
    "for line in lines:\n",
    "    data.append(json.loads(line))\n",
    "\n",
    "df3 = pd.DataFrame(data)\n",
    "df3.head(1)"
   ]
  },
  {
   "cell_type": "markdown",
   "metadata": {},
   "source": [
    ">**Observation**: There are three tweet datasets gathered from CSV flat file, internet download sources and twitter web-querying. These data values have been assigned to df1 (Twitter_archive), df2(image_prediction), df3(queried twitter data) dataframes respectively. In other to assess and clean the entire datasets, it would be necessary to document issues with the dataset visually and programmatically. This would be done in the next segment of the analysis"
   ]
  },
  {
   "cell_type": "markdown",
   "metadata": {},
   "source": [
    "\n",
    "### Data Assessment \n",
    "> In this section, visual and programmatic assessments of each of the datasets are conducted to detect and document 10 data quality and 3 tidiness issues. After which data issues are cleaned in the following order: completeness issues, structural issues and content issues. "
   ]
  },
  {
   "cell_type": "code",
   "execution_count": 201,
   "metadata": {},
   "outputs": [
    {
     "data": {
      "text/html": [
       "<div>\n",
       "<style scoped>\n",
       "    .dataframe tbody tr th:only-of-type {\n",
       "        vertical-align: middle;\n",
       "    }\n",
       "\n",
       "    .dataframe tbody tr th {\n",
       "        vertical-align: top;\n",
       "    }\n",
       "\n",
       "    .dataframe thead th {\n",
       "        text-align: right;\n",
       "    }\n",
       "</style>\n",
       "<table border=\"1\" class=\"dataframe\">\n",
       "  <thead>\n",
       "    <tr style=\"text-align: right;\">\n",
       "      <th></th>\n",
       "      <th>tweet_id</th>\n",
       "      <th>in_reply_to_status_id</th>\n",
       "      <th>in_reply_to_user_id</th>\n",
       "      <th>timestamp</th>\n",
       "      <th>source</th>\n",
       "      <th>text</th>\n",
       "      <th>retweeted_status_id</th>\n",
       "      <th>retweeted_status_user_id</th>\n",
       "      <th>retweeted_status_timestamp</th>\n",
       "      <th>expanded_urls</th>\n",
       "      <th>rating_numerator</th>\n",
       "      <th>rating_denominator</th>\n",
       "      <th>name</th>\n",
       "      <th>doggo</th>\n",
       "      <th>floofer</th>\n",
       "      <th>pupper</th>\n",
       "      <th>puppo</th>\n",
       "    </tr>\n",
       "  </thead>\n",
       "  <tbody>\n",
       "    <tr>\n",
       "      <th>1998</th>\n",
       "      <td>672538107540070400</td>\n",
       "      <td>NaN</td>\n",
       "      <td>NaN</td>\n",
       "      <td>2015-12-03 22:09:14 +0000</td>\n",
       "      <td>&lt;a href=\"http://twitter.com/download/iphone\" r...</td>\n",
       "      <td>Meet Darby. He's a Fiscal Tutankhamen Waxbeard...</td>\n",
       "      <td>NaN</td>\n",
       "      <td>NaN</td>\n",
       "      <td>NaN</td>\n",
       "      <td>https://twitter.com/dog_rates/status/672538107...</td>\n",
       "      <td>7</td>\n",
       "      <td>10</td>\n",
       "      <td>Darby</td>\n",
       "      <td>None</td>\n",
       "      <td>None</td>\n",
       "      <td>None</td>\n",
       "      <td>None</td>\n",
       "    </tr>\n",
       "    <tr>\n",
       "      <th>643</th>\n",
       "      <td>793195938047070209</td>\n",
       "      <td>NaN</td>\n",
       "      <td>NaN</td>\n",
       "      <td>2016-10-31 21:00:23 +0000</td>\n",
       "      <td>&lt;a href=\"http://twitter.com/download/iphone\" r...</td>\n",
       "      <td>Say hello to Lily. She's pupset that her costu...</td>\n",
       "      <td>NaN</td>\n",
       "      <td>NaN</td>\n",
       "      <td>NaN</td>\n",
       "      <td>https://twitter.com/dog_rates/status/793195938...</td>\n",
       "      <td>12</td>\n",
       "      <td>10</td>\n",
       "      <td>Lily</td>\n",
       "      <td>None</td>\n",
       "      <td>None</td>\n",
       "      <td>None</td>\n",
       "      <td>puppo</td>\n",
       "    </tr>\n",
       "    <tr>\n",
       "      <th>2304</th>\n",
       "      <td>666983947667116034</td>\n",
       "      <td>NaN</td>\n",
       "      <td>NaN</td>\n",
       "      <td>2015-11-18 14:18:59 +0000</td>\n",
       "      <td>&lt;a href=\"http://twitter.com/download/iphone\" r...</td>\n",
       "      <td>This is a curly Ticonderoga named Pepe. No fee...</td>\n",
       "      <td>NaN</td>\n",
       "      <td>NaN</td>\n",
       "      <td>NaN</td>\n",
       "      <td>https://twitter.com/dog_rates/status/666983947...</td>\n",
       "      <td>11</td>\n",
       "      <td>10</td>\n",
       "      <td>a</td>\n",
       "      <td>None</td>\n",
       "      <td>None</td>\n",
       "      <td>None</td>\n",
       "      <td>None</td>\n",
       "    </tr>\n",
       "  </tbody>\n",
       "</table>\n",
       "</div>"
      ],
      "text/plain": [
       "                tweet_id  in_reply_to_status_id  in_reply_to_user_id  \\\n",
       "1998  672538107540070400                    NaN                  NaN   \n",
       "643   793195938047070209                    NaN                  NaN   \n",
       "2304  666983947667116034                    NaN                  NaN   \n",
       "\n",
       "                      timestamp  \\\n",
       "1998  2015-12-03 22:09:14 +0000   \n",
       "643   2016-10-31 21:00:23 +0000   \n",
       "2304  2015-11-18 14:18:59 +0000   \n",
       "\n",
       "                                                 source  \\\n",
       "1998  <a href=\"http://twitter.com/download/iphone\" r...   \n",
       "643   <a href=\"http://twitter.com/download/iphone\" r...   \n",
       "2304  <a href=\"http://twitter.com/download/iphone\" r...   \n",
       "\n",
       "                                                   text  retweeted_status_id  \\\n",
       "1998  Meet Darby. He's a Fiscal Tutankhamen Waxbeard...                  NaN   \n",
       "643   Say hello to Lily. She's pupset that her costu...                  NaN   \n",
       "2304  This is a curly Ticonderoga named Pepe. No fee...                  NaN   \n",
       "\n",
       "      retweeted_status_user_id retweeted_status_timestamp  \\\n",
       "1998                       NaN                        NaN   \n",
       "643                        NaN                        NaN   \n",
       "2304                       NaN                        NaN   \n",
       "\n",
       "                                          expanded_urls  rating_numerator  \\\n",
       "1998  https://twitter.com/dog_rates/status/672538107...                 7   \n",
       "643   https://twitter.com/dog_rates/status/793195938...                12   \n",
       "2304  https://twitter.com/dog_rates/status/666983947...                11   \n",
       "\n",
       "      rating_denominator   name doggo floofer pupper  puppo  \n",
       "1998                  10  Darby  None    None   None   None  \n",
       "643                   10   Lily  None    None   None  puppo  \n",
       "2304                  10      a  None    None   None   None  "
      ]
     },
     "execution_count": 201,
     "metadata": {},
     "output_type": "execute_result"
    }
   ],
   "source": [
    "df1.sample(3)"
   ]
  },
  {
   "cell_type": "markdown",
   "metadata": {},
   "source": [
    "#### Visual Assessment"
   ]
  },
  {
   "cell_type": "markdown",
   "metadata": {},
   "source": [
    "- df1: Many features with NaN values (in_reply_to_status_id\tin_reply_to_user_id,retweeted_status_id\tretweeted_status_user_id..etc) (data quality issue - invalid)\n",
    "- df2: p1,p2,p3 column with mixture of uppercase and lower case values (data quality issue - inconsistent)\n",
    "- df3: Presence of retweets (data quality issue - invalid)\n",
    "- df1: timestamp contains multiple time-related data variables (data quality issue - invalid)\n",
    "- df3: created_at contains multiple time-related data variables (data quality issue - invalid)\n",
    "- df1: dog stage names not well structured/merged (data tidness issue - poor structure)\n",
    "- df3: id_str column duplicated similar to id column (data tidness- poor structure)\n",
    "- df3: id column name need to be changed to tweet_id in conformity with other datasets (data tidness - poor structure))"
   ]
  },
  {
   "cell_type": "markdown",
   "metadata": {},
   "source": [
    "#### Programmatic Assessment "
   ]
  },
  {
   "cell_type": "markdown",
   "metadata": {},
   "source": [
    "- df1: name column contains mixture of uppercase and lower case values (data quality issue - inconsistent)\n",
    "- df3: id_str column should be int not object (data quality - inconsistent)\n",
    "- df1: some dog names are wrongly extracted(data quality - inaccurate)\n",
    "- df1: some dog rating numerator rating are wrongly extracted(data quality - inaccurate)\n",
    "- df3: display_text_range column contains two variables start and end of text character (data tidness issue - poor structure)"
   ]
  },
  {
   "cell_type": "code",
   "execution_count": 202,
   "metadata": {},
   "outputs": [],
   "source": [
    "#duplicate dataframe\n",
    "df1_c = df1.copy()\n",
    "df2_c = df2.copy()\n",
    "df3_c = df3.copy()"
   ]
  },
  {
   "cell_type": "markdown",
   "metadata": {},
   "source": [
    "##### Define: Presence of null values in dataframes (data quality cleaning 1) - df1"
   ]
  },
  {
   "cell_type": "code",
   "execution_count": 203,
   "metadata": {},
   "outputs": [],
   "source": [
    "#Code\n",
    "#Data quality cleaning - df1\n",
    "#drop all columns with 'null' values\n",
    "df1_c.dropna(axis=1, inplace=True)\n",
    "df2_c.dropna(axis=1, inplace=True)\n",
    "df3_c.dropna(axis=1, inplace=True)"
   ]
  },
  {
   "cell_type": "code",
   "execution_count": 204,
   "metadata": {},
   "outputs": [],
   "source": [
    "#test\n",
    "#df1_c.sample(3)"
   ]
  },
  {
   "cell_type": "markdown",
   "metadata": {},
   "source": [
    "##### Define: timestamp is an object (wrong format) not datetime (data quality cleaning 2) - df1_c"
   ]
  },
  {
   "cell_type": "code",
   "execution_count": 205,
   "metadata": {},
   "outputs": [],
   "source": [
    "#Code\n",
    "#Data quality cleaning - df1\n",
    "#convert the timestamp to datatime  \n",
    "df1_c['timestamp'] = pd.to_datetime(df1_c['timestamp'])\n",
    "df1_c['tweet_year'] = df1_c['timestamp'].dt.year\n",
    "df1_c['tweet_month'] = df1_c['timestamp'].dt.month_name(locale = 'English')\n",
    "df1_c['tweet_day'] = df1_c['timestamp'].dt.day_name()\n",
    "df1_c.drop(['timestamp'], axis=1, inplace=True)"
   ]
  },
  {
   "cell_type": "code",
   "execution_count": 206,
   "metadata": {},
   "outputs": [],
   "source": [
    "#test\n",
    "#df1_c.sample(3)"
   ]
  },
  {
   "cell_type": "markdown",
   "metadata": {},
   "source": [
    "##### Define: Multiple time variables in rows (data quality cleaning 3) - df3_c"
   ]
  },
  {
   "cell_type": "code",
   "execution_count": 207,
   "metadata": {},
   "outputs": [],
   "source": [
    "#Code\n",
    "#Data tidness cleaning - (df3)\n",
    "#adjust the date time in 'created_at fetaure' and categorize into tweet_year, tweet_month and tweet_day\n",
    "df3_c['tweet_year'] = df3_c['created_at'].apply(lambda x: x[-4:])\n",
    "df3_c['tweet_day'] = df3_c['created_at'].apply(lambda x: x[0:3])\n",
    "df3_c['tweet_month'] = df3_c['created_at'].apply(lambda x: x[4:7])\n",
    "df3_c.drop(['created_at'], axis=1, inplace=True)\n",
    "df3_c['tweet_year'] = df3_c['tweet_year'].astype(int)"
   ]
  },
  {
   "cell_type": "code",
   "execution_count": 208,
   "metadata": {},
   "outputs": [],
   "source": [
    "#test\n",
    "#df3_c.sample(3)"
   ]
  },
  {
   "cell_type": "markdown",
   "metadata": {},
   "source": [
    "##### Define: duplicated id_str column (data tidness cleaning 1) - df3_c"
   ]
  },
  {
   "cell_type": "code",
   "execution_count": 209,
   "metadata": {},
   "outputs": [],
   "source": [
    "#Code\n",
    "#Data tidness cleaning -(df3)\n",
    "#drop id_str column\n",
    "df3_c.drop(['id_str'], axis=1, inplace=True)"
   ]
  },
  {
   "cell_type": "code",
   "execution_count": 210,
   "metadata": {},
   "outputs": [],
   "source": [
    "#test\n",
    "#df3_c.sample(3)"
   ]
  },
  {
   "cell_type": "markdown",
   "metadata": {},
   "source": [
    "##### Define: Multiple data variables in 'display_text_range' column (data tidness cleaning 2) - df3_c"
   ]
  },
  {
   "cell_type": "code",
   "execution_count": 211,
   "metadata": {},
   "outputs": [],
   "source": [
    "#Code\n",
    "#Data tidness cleaning - invalid display test range value in df3\n",
    "#extract test range and convert to int\n",
    "\n",
    "for count, row in enumerate(df3_c['display_text_range']):\n",
    "    df3_c.at[count, 'display_text_range'] = int(row[1]) - int(row[0])\n",
    "\n",
    "df3_c['display_text_range'] = df3_c['display_text_range'].astype(int)"
   ]
  },
  {
   "cell_type": "code",
   "execution_count": 212,
   "metadata": {},
   "outputs": [],
   "source": [
    "#test\n",
    "#df3_c.sample(3)"
   ]
  },
  {
   "cell_type": "markdown",
   "metadata": {},
   "source": [
    "##### Define: Presence of retweeted rows(observations) (data quality cleaning 4) - df1_c"
   ]
  },
  {
   "cell_type": "code",
   "execution_count": 213,
   "metadata": {},
   "outputs": [],
   "source": [
    "#Code\n",
    "#Data quality cleaning - remove invalid retweets rows in df1\n",
    "#Find 'RT' keywords in each observation and remove row accordingly.\n",
    "\n",
    "df1_c = df1_c[df1_c['text'].str.contains('RT @')==False]"
   ]
  },
  {
   "cell_type": "code",
   "execution_count": 214,
   "metadata": {},
   "outputs": [],
   "source": [
    "#test\n",
    "#df1_c.sample(3)"
   ]
  },
  {
   "cell_type": "markdown",
   "metadata": {},
   "source": [
    "##### Define: Presence of retweeted rows(observations) (data quality cleaning 5) - df3_c"
   ]
  },
  {
   "cell_type": "code",
   "execution_count": 215,
   "metadata": {},
   "outputs": [],
   "source": [
    "#Code\n",
    "#Data quality cleaning - remove invalid retweets rows in df3\n",
    "#Find 'RT' keywords in each observation and remove row accordingly.\n",
    "\n",
    "df3_c = df3_c[df3_c['full_text'].str.contains('RT @')== False]"
   ]
  },
  {
   "cell_type": "code",
   "execution_count": 216,
   "metadata": {},
   "outputs": [],
   "source": [
    "#test\n",
    "#df3_c.sample(3)"
   ]
  },
  {
   "cell_type": "markdown",
   "metadata": {},
   "source": [
    "##### Define: Change id to tweet_id for conformity (data tidness cleaning 3) - df3_c"
   ]
  },
  {
   "cell_type": "code",
   "execution_count": 217,
   "metadata": {},
   "outputs": [],
   "source": [
    "#Code\n",
    "#Data tidness cleaning - Rename the column of 'id' to 'tweet_id'\n",
    "df3_c.rename(columns={'id':'tweet_id'}, inplace=True)"
   ]
  },
  {
   "cell_type": "code",
   "execution_count": 218,
   "metadata": {},
   "outputs": [],
   "source": [
    "#test\n",
    "#df3_c.sample(3)"
   ]
  },
  {
   "cell_type": "markdown",
   "metadata": {},
   "source": [
    "##### Define: Inconsistent data capitalization in p1,p2,p3 (data quality cleaning 6) - df2_c"
   ]
  },
  {
   "cell_type": "code",
   "execution_count": 219,
   "metadata": {},
   "outputs": [],
   "source": [
    "#Code\n",
    "#Data quality cleaning - convert all values of features (p1, p2, p3) to lowercase in df1 for uniformity\n",
    "df2_c['p1'] = df2_c['p1'].str.title()\n",
    "df2_c['p2'] = df2_c['p2'].str.title()\n",
    "df2_c['p3'] = df2_c['p3'].str.title()\n",
    "#for df1\n",
    "df1_c['name'] = df1_c['name'].str.title()"
   ]
  },
  {
   "cell_type": "code",
   "execution_count": 220,
   "metadata": {},
   "outputs": [],
   "source": [
    "#test\n",
    "#df2_c.sample(3)"
   ]
  },
  {
   "cell_type": "code",
   "execution_count": 221,
   "metadata": {},
   "outputs": [],
   "source": [
    "#Create a new feaure for dog score rating\n",
    "df1_c['mean_rating'] = df1_c['rating_numerator']/df1_c['rating_denominator']"
   ]
  },
  {
   "cell_type": "markdown",
   "metadata": {},
   "source": [
    "##### Define:  inaccurate name  in df1_c (data quality cleaning 7) - df1_c"
   ]
  },
  {
   "cell_type": "code",
   "execution_count": 222,
   "metadata": {},
   "outputs": [],
   "source": [
    "#Code\n",
    "# Data quality cleaning - replace dog name 'A' with 'None'\n",
    "df1_c['name'] = df1_c['name'].apply(lambda x : 'None' if x == 'A' else x)"
   ]
  },
  {
   "cell_type": "code",
   "execution_count": 223,
   "metadata": {},
   "outputs": [],
   "source": [
    "#Code\n",
    "# Data quality cleaning -  replace dog name 'Sadie' with 'Sadie and Daisy'\n",
    "df1_c['name'] = df1_c['name'].apply(lambda x : 'Sadie and Daisy' if x == 'Sadie' else x)"
   ]
  },
  {
   "cell_type": "code",
   "execution_count": 224,
   "metadata": {},
   "outputs": [],
   "source": [
    "#Code\n",
    "# Data quality cleaning - replace dog name 'Maddie' with 'Maddie and Gunner'\n",
    "df1_c['name'] = df1_c['name'].apply(lambda x : 'Maddie and Gunner' if x == 'Maddie' else x)"
   ]
  },
  {
   "cell_type": "code",
   "execution_count": 225,
   "metadata": {},
   "outputs": [],
   "source": [
    "#test\n",
    "#df1_c.sample(3)"
   ]
  },
  {
   "cell_type": "markdown",
   "metadata": {},
   "source": [
    "##### Define: Poor dog_type structure (data tidness cleaning 4) - df3_c"
   ]
  },
  {
   "cell_type": "code",
   "execution_count": 226,
   "metadata": {},
   "outputs": [],
   "source": [
    "#Code\n",
    "#Data tidness cleaning - arranging the dog type into one column \n",
    "df1_c.reset_index(inplace=True, drop=True)\n",
    "df1_c['dog_type'] = 'None'\n",
    "\n",
    "dog_list = list(df1_c['dog_type'])\n",
    "\n",
    "keywords = ['doggo','floofer','pupper','puppo']\n",
    "\n",
    "#collate all dog type values that are not 'None\n",
    "for key in keywords:\n",
    "    for i in range(df1_c.shape[0]):\n",
    "        if df1_c.at[i, key] != 'None':\n",
    "            dog_list[i] = key\n",
    "            \n",
    "#append list to dataframe             \n",
    "df1_c['dog_type'] = dog_list"
   ]
  },
  {
   "cell_type": "code",
   "execution_count": 227,
   "metadata": {},
   "outputs": [],
   "source": [
    "#test\n",
    "#df1_c.sample(3)"
   ]
  },
  {
   "cell_type": "markdown",
   "metadata": {},
   "source": [
    "##### Define: General cleaning of all datasets (data quality cleaning 8) - df3_c"
   ]
  },
  {
   "cell_type": "code",
   "execution_count": 228,
   "metadata": {},
   "outputs": [],
   "source": [
    "#Code\n",
    "#drop all doggo, floofer, pupper, puppo features\n",
    "df1_c.drop(['doggo', 'floofer', 'pupper', 'puppo','text','source','rating_numerator','rating_denominator'], axis=1, inplace=True)"
   ]
  },
  {
   "cell_type": "code",
   "execution_count": 229,
   "metadata": {},
   "outputs": [],
   "source": [
    "#Code\n",
    "#drop all unnecessary features\n",
    "df3_c.drop(['truncated', 'entities', 'source','full_text','user'], axis=1, inplace=True)"
   ]
  },
  {
   "cell_type": "code",
   "execution_count": 230,
   "metadata": {},
   "outputs": [],
   "source": [
    "#Code\n",
    "#drop all unnecessary features\n",
    "df2_c.drop(['jpg_url','img_num'], axis=1, inplace=True)"
   ]
  },
  {
   "cell_type": "code",
   "execution_count": 231,
   "metadata": {},
   "outputs": [],
   "source": [
    "#Code\n",
    "#Data Tidness cleaning - reset index for df1_c, df2_c and df3_c\n",
    "df1_c.reset_index(inplace=True, drop=True)\n",
    "df2_c.reset_index(inplace=True, drop=True)\n",
    "df3_c.reset_index(inplace=True, drop=True)"
   ]
  },
  {
   "cell_type": "code",
   "execution_count": 232,
   "metadata": {},
   "outputs": [],
   "source": [
    "#test\n",
    "#df1_c.sample(3)\n",
    "#df2_c.sample(3)\n",
    "#df3_c.sample(3)"
   ]
  },
  {
   "cell_type": "markdown",
   "metadata": {},
   "source": [
    "##### Merge all datasets on tweet_id"
   ]
  },
  {
   "cell_type": "code",
   "execution_count": 233,
   "metadata": {},
   "outputs": [],
   "source": [
    "#Merge all datasets on the tweet_id\n",
    "df_merged = df1_c.merge(df2_c, on='tweet_id')"
   ]
  },
  {
   "cell_type": "code",
   "execution_count": 234,
   "metadata": {},
   "outputs": [],
   "source": [
    "df = df_merged.merge(df3_c, on='tweet_id')"
   ]
  },
  {
   "cell_type": "code",
   "execution_count": 235,
   "metadata": {},
   "outputs": [],
   "source": [
    "#further cleaning of the dataframe\n",
    "#drop repeated columns\n",
    "df.drop(['tweet_year_y', 'tweet_day_y', 'tweet_month_y', 'retweeted'], axis=1, inplace=True)\n",
    "#rename columns\n",
    "df.rename(columns={'tweet_year_x':'tweet_year', 'tweet_month_x':'tweet_month', 'tweet_day_x':'tweet_day'}, inplace=True)"
   ]
  },
  {
   "cell_type": "code",
   "execution_count": 236,
   "metadata": {},
   "outputs": [
    {
     "data": {
      "text/html": [
       "<div>\n",
       "<style scoped>\n",
       "    .dataframe tbody tr th:only-of-type {\n",
       "        vertical-align: middle;\n",
       "    }\n",
       "\n",
       "    .dataframe tbody tr th {\n",
       "        vertical-align: top;\n",
       "    }\n",
       "\n",
       "    .dataframe thead th {\n",
       "        text-align: right;\n",
       "    }\n",
       "</style>\n",
       "<table border=\"1\" class=\"dataframe\">\n",
       "  <thead>\n",
       "    <tr style=\"text-align: right;\">\n",
       "      <th></th>\n",
       "      <th>tweet_id</th>\n",
       "      <th>name</th>\n",
       "      <th>tweet_year</th>\n",
       "      <th>tweet_month</th>\n",
       "      <th>tweet_day</th>\n",
       "      <th>mean_rating</th>\n",
       "      <th>dog_type</th>\n",
       "      <th>p1</th>\n",
       "      <th>p1_conf</th>\n",
       "      <th>p1_dog</th>\n",
       "      <th>...</th>\n",
       "      <th>p2_dog</th>\n",
       "      <th>p3</th>\n",
       "      <th>p3_conf</th>\n",
       "      <th>p3_dog</th>\n",
       "      <th>display_text_range</th>\n",
       "      <th>is_quote_status</th>\n",
       "      <th>retweet_count</th>\n",
       "      <th>favorite_count</th>\n",
       "      <th>favorited</th>\n",
       "      <th>lang</th>\n",
       "    </tr>\n",
       "  </thead>\n",
       "  <tbody>\n",
       "    <tr>\n",
       "      <th>1622</th>\n",
       "      <td>672988786805112832</td>\n",
       "      <td>Schnozz</td>\n",
       "      <td>2015</td>\n",
       "      <td>December</td>\n",
       "      <td>Saturday</td>\n",
       "      <td>1.0</td>\n",
       "      <td>pupper</td>\n",
       "      <td>Lakeland_Terrier</td>\n",
       "      <td>0.836632</td>\n",
       "      <td>True</td>\n",
       "      <td>...</td>\n",
       "      <td>True</td>\n",
       "      <td>Wire-Haired_Fox_Terrier</td>\n",
       "      <td>0.038160</td>\n",
       "      <td>True</td>\n",
       "      <td>130</td>\n",
       "      <td>False</td>\n",
       "      <td>314</td>\n",
       "      <td>1039</td>\n",
       "      <td>False</td>\n",
       "      <td>en</td>\n",
       "    </tr>\n",
       "    <tr>\n",
       "      <th>562</th>\n",
       "      <td>776113305656188928</td>\n",
       "      <td>Sampson</td>\n",
       "      <td>2016</td>\n",
       "      <td>September</td>\n",
       "      <td>Wednesday</td>\n",
       "      <td>1.1</td>\n",
       "      <td>pupper</td>\n",
       "      <td>Mousetrap</td>\n",
       "      <td>0.777468</td>\n",
       "      <td>False</td>\n",
       "      <td>...</td>\n",
       "      <td>False</td>\n",
       "      <td>Paddlewheel</td>\n",
       "      <td>0.017492</td>\n",
       "      <td>False</td>\n",
       "      <td>92</td>\n",
       "      <td>False</td>\n",
       "      <td>5068</td>\n",
       "      <td>13102</td>\n",
       "      <td>False</td>\n",
       "      <td>en</td>\n",
       "    </tr>\n",
       "    <tr>\n",
       "      <th>230</th>\n",
       "      <td>836001077879255040</td>\n",
       "      <td>None</td>\n",
       "      <td>2017</td>\n",
       "      <td>February</td>\n",
       "      <td>Sunday</td>\n",
       "      <td>1.3</td>\n",
       "      <td>None</td>\n",
       "      <td>Samoyed</td>\n",
       "      <td>0.963558</td>\n",
       "      <td>True</td>\n",
       "      <td>...</td>\n",
       "      <td>False</td>\n",
       "      <td>Malamute</td>\n",
       "      <td>0.005904</td>\n",
       "      <td>True</td>\n",
       "      <td>122</td>\n",
       "      <td>False</td>\n",
       "      <td>4935</td>\n",
       "      <td>20924</td>\n",
       "      <td>False</td>\n",
       "      <td>en</td>\n",
       "    </tr>\n",
       "  </tbody>\n",
       "</table>\n",
       "<p>3 rows × 22 columns</p>\n",
       "</div>"
      ],
      "text/plain": [
       "                tweet_id     name  tweet_year tweet_month  tweet_day  \\\n",
       "1622  672988786805112832  Schnozz        2015    December   Saturday   \n",
       "562   776113305656188928  Sampson        2016   September  Wednesday   \n",
       "230   836001077879255040     None        2017    February     Sunday   \n",
       "\n",
       "      mean_rating dog_type                p1   p1_conf  p1_dog  ... p2_dog  \\\n",
       "1622          1.0   pupper  Lakeland_Terrier  0.836632    True  ...   True   \n",
       "562           1.1   pupper         Mousetrap  0.777468   False  ...  False   \n",
       "230           1.3     None           Samoyed  0.963558    True  ...  False   \n",
       "\n",
       "                           p3   p3_conf p3_dog  display_text_range  \\\n",
       "1622  Wire-Haired_Fox_Terrier  0.038160   True                 130   \n",
       "562               Paddlewheel  0.017492  False                  92   \n",
       "230                  Malamute  0.005904   True                 122   \n",
       "\n",
       "      is_quote_status  retweet_count  favorite_count  favorited  lang  \n",
       "1622            False            314            1039      False    en  \n",
       "562             False           5068           13102      False    en  \n",
       "230             False           4935           20924      False    en  \n",
       "\n",
       "[3 rows x 22 columns]"
      ]
     },
     "execution_count": 236,
     "metadata": {},
     "output_type": "execute_result"
    }
   ],
   "source": [
    "df.sample(3)"
   ]
  },
  {
   "cell_type": "markdown",
   "metadata": {},
   "source": [
    ">**Observation**: The three data sets which originally had issues relating to low quality of data values and poor tidness has been trimmed and cleaned by means of visual and programmaitc assessments techniques. The merged datasets which now represents the master data set that would be use for the EDA aspect of the project in the next section. Nevetheless, future work would entail data cleaning and wrangling so as to improve the overall quality of the data set."
   ]
  },
  {
   "cell_type": "markdown",
   "metadata": {},
   "source": [
    "##### Store cleaned dataset"
   ]
  },
  {
   "cell_type": "code",
   "execution_count": 237,
   "metadata": {},
   "outputs": [],
   "source": [
    " df.to_csv('modified_WeRateDogs.csv', index=False)"
   ]
  },
  {
   "cell_type": "markdown",
   "metadata": {},
   "source": [
    "## Analyse Cleaned Dataset"
   ]
  },
  {
   "cell_type": "markdown",
   "metadata": {},
   "source": [
    "### Research Question 2  - Tweet timeline distribution"
   ]
  },
  {
   "cell_type": "code",
   "execution_count": 238,
   "metadata": {},
   "outputs": [
    {
     "data": {
      "text/html": [
       "<div>\n",
       "<style scoped>\n",
       "    .dataframe tbody tr th:only-of-type {\n",
       "        vertical-align: middle;\n",
       "    }\n",
       "\n",
       "    .dataframe tbody tr th {\n",
       "        vertical-align: top;\n",
       "    }\n",
       "\n",
       "    .dataframe thead th {\n",
       "        text-align: right;\n",
       "    }\n",
       "</style>\n",
       "<table border=\"1\" class=\"dataframe\">\n",
       "  <thead>\n",
       "    <tr style=\"text-align: right;\">\n",
       "      <th></th>\n",
       "      <th>tweet_id</th>\n",
       "      <th>tweet_year</th>\n",
       "      <th>mean_rating</th>\n",
       "      <th>p1_conf</th>\n",
       "      <th>p2_conf</th>\n",
       "      <th>p3_conf</th>\n",
       "      <th>display_text_range</th>\n",
       "      <th>retweet_count</th>\n",
       "      <th>favorite_count</th>\n",
       "    </tr>\n",
       "  </thead>\n",
       "  <tbody>\n",
       "    <tr>\n",
       "      <th>count</th>\n",
       "      <td>1.994000e+03</td>\n",
       "      <td>1994.000000</td>\n",
       "      <td>1994.000000</td>\n",
       "      <td>1994.000000</td>\n",
       "      <td>1.994000e+03</td>\n",
       "      <td>1.994000e+03</td>\n",
       "      <td>1994.000000</td>\n",
       "      <td>1994.000000</td>\n",
       "      <td>1994.000000</td>\n",
       "    </tr>\n",
       "    <tr>\n",
       "      <th>mean</th>\n",
       "      <td>7.358508e+17</td>\n",
       "      <td>2015.846540</td>\n",
       "      <td>1.169249</td>\n",
       "      <td>0.593941</td>\n",
       "      <td>1.344195e-01</td>\n",
       "      <td>6.024848e-02</td>\n",
       "      <td>111.522568</td>\n",
       "      <td>2766.753260</td>\n",
       "      <td>8895.725677</td>\n",
       "    </tr>\n",
       "    <tr>\n",
       "      <th>std</th>\n",
       "      <td>6.747816e+16</td>\n",
       "      <td>0.698734</td>\n",
       "      <td>4.067071</td>\n",
       "      <td>0.271954</td>\n",
       "      <td>1.006807e-01</td>\n",
       "      <td>5.089067e-02</td>\n",
       "      <td>26.493668</td>\n",
       "      <td>4674.698447</td>\n",
       "      <td>12213.193181</td>\n",
       "    </tr>\n",
       "    <tr>\n",
       "      <th>min</th>\n",
       "      <td>6.660209e+17</td>\n",
       "      <td>2015.000000</td>\n",
       "      <td>0.000000</td>\n",
       "      <td>0.044333</td>\n",
       "      <td>1.011300e-08</td>\n",
       "      <td>1.740170e-10</td>\n",
       "      <td>13.000000</td>\n",
       "      <td>16.000000</td>\n",
       "      <td>81.000000</td>\n",
       "    </tr>\n",
       "    <tr>\n",
       "      <th>25%</th>\n",
       "      <td>6.758475e+17</td>\n",
       "      <td>2015.000000</td>\n",
       "      <td>1.000000</td>\n",
       "      <td>0.362857</td>\n",
       "      <td>5.393987e-02</td>\n",
       "      <td>1.619283e-02</td>\n",
       "      <td>94.000000</td>\n",
       "      <td>624.750000</td>\n",
       "      <td>1982.000000</td>\n",
       "    </tr>\n",
       "    <tr>\n",
       "      <th>50%</th>\n",
       "      <td>7.084748e+17</td>\n",
       "      <td>2016.000000</td>\n",
       "      <td>1.100000</td>\n",
       "      <td>0.587635</td>\n",
       "      <td>1.174550e-01</td>\n",
       "      <td>4.950530e-02</td>\n",
       "      <td>116.000000</td>\n",
       "      <td>1359.500000</td>\n",
       "      <td>4136.000000</td>\n",
       "    </tr>\n",
       "    <tr>\n",
       "      <th>75%</th>\n",
       "      <td>7.877873e+17</td>\n",
       "      <td>2016.000000</td>\n",
       "      <td>1.200000</td>\n",
       "      <td>0.846285</td>\n",
       "      <td>1.951377e-01</td>\n",
       "      <td>9.159438e-02</td>\n",
       "      <td>137.000000</td>\n",
       "      <td>3220.000000</td>\n",
       "      <td>11308.000000</td>\n",
       "    </tr>\n",
       "    <tr>\n",
       "      <th>max</th>\n",
       "      <td>8.924206e+17</td>\n",
       "      <td>2017.000000</td>\n",
       "      <td>177.600000</td>\n",
       "      <td>1.000000</td>\n",
       "      <td>4.880140e-01</td>\n",
       "      <td>2.734190e-01</td>\n",
       "      <td>148.000000</td>\n",
       "      <td>79515.000000</td>\n",
       "      <td>132810.000000</td>\n",
       "    </tr>\n",
       "  </tbody>\n",
       "</table>\n",
       "</div>"
      ],
      "text/plain": [
       "           tweet_id   tweet_year  mean_rating      p1_conf       p2_conf  \\\n",
       "count  1.994000e+03  1994.000000  1994.000000  1994.000000  1.994000e+03   \n",
       "mean   7.358508e+17  2015.846540     1.169249     0.593941  1.344195e-01   \n",
       "std    6.747816e+16     0.698734     4.067071     0.271954  1.006807e-01   \n",
       "min    6.660209e+17  2015.000000     0.000000     0.044333  1.011300e-08   \n",
       "25%    6.758475e+17  2015.000000     1.000000     0.362857  5.393987e-02   \n",
       "50%    7.084748e+17  2016.000000     1.100000     0.587635  1.174550e-01   \n",
       "75%    7.877873e+17  2016.000000     1.200000     0.846285  1.951377e-01   \n",
       "max    8.924206e+17  2017.000000   177.600000     1.000000  4.880140e-01   \n",
       "\n",
       "            p3_conf  display_text_range  retweet_count  favorite_count  \n",
       "count  1.994000e+03         1994.000000    1994.000000     1994.000000  \n",
       "mean   6.024848e-02          111.522568    2766.753260     8895.725677  \n",
       "std    5.089067e-02           26.493668    4674.698447    12213.193181  \n",
       "min    1.740170e-10           13.000000      16.000000       81.000000  \n",
       "25%    1.619283e-02           94.000000     624.750000     1982.000000  \n",
       "50%    4.950530e-02          116.000000    1359.500000     4136.000000  \n",
       "75%    9.159438e-02          137.000000    3220.000000    11308.000000  \n",
       "max    2.734190e-01          148.000000   79515.000000   132810.000000  "
      ]
     },
     "execution_count": 238,
     "metadata": {},
     "output_type": "execute_result"
    }
   ],
   "source": [
    "#Understanding the numerical statistics of the dataset\n",
    "df.describe()"
   ]
  },
  {
   "cell_type": "code",
   "execution_count": 239,
   "metadata": {},
   "outputs": [],
   "source": [
    "#order the tweet_year periods of the dataset\n",
    "index_day = ['Monday','Tuesday', 'Wednesday', 'Thursday','Friday', 'Saturday', 'Sunday']\n",
    "ordered_classes = pd.api.types.CategoricalDtype(ordered=True, categories=index_day)\n",
    "df['tweet_day'] = df['tweet_day'].astype(ordered_classes)"
   ]
  },
  {
   "cell_type": "code",
   "execution_count": 240,
   "metadata": {},
   "outputs": [],
   "source": [
    "#order the tweet_month periods of the dataset\n",
    "index_month = ['January','February', 'March', 'April','May','June','July','August','September','October','November','December']\n",
    "ordered_classes = pd.api.types.CategoricalDtype(ordered=True, categories=index_month)\n",
    "df['tweet_month'] = df['tweet_month'].astype(ordered_classes)"
   ]
  },
  {
   "cell_type": "code",
   "execution_count": 241,
   "metadata": {},
   "outputs": [
    {
     "data": {
      "image/png": "[encoded data removed]",
      "text/plain": [
       "<Figure size 864x360 with 1 Axes>"
      ]
     },
     "metadata": {
      "needs_background": "light"
     },
     "output_type": "display_data"
    }
   ],
   "source": [
    "#plot a countplot of month and day tweets - Understanding the categorical statistics of number of tweets in 2015-2017 time period\n",
    "plt.figure(figsize=[12,5])\n",
    "sns.countplot(data=df, x='tweet_month', hue='tweet_day', palette='rocket_r')\n",
    "plt.xticks(rotation=15);\n",
    "plt.legend(loc=[0.5,0.5])\n",
    "plt.title('A countplot of tweet timeline');"
   ]
  },
  {
   "cell_type": "code",
   "execution_count": 242,
   "metadata": {},
   "outputs": [
    {
     "data": {
      "image/png": "[encoded data removed]",
      "text/plain": [
       "<Figure size 1224x360 with 2 Axes>"
      ]
     },
     "metadata": {
      "needs_background": "light"
     },
     "output_type": "display_data"
    }
   ],
   "source": [
    "#Plot the point plot distribution of mean ratings across each day and month\n",
    "plt.figure(figsize=[17,5])\n",
    "plt.subplot(1,2,1)\n",
    "sns.pointplot(data=df, x='tweet_day', y='mean_rating', linestyles=\"\")\n",
    "plt.xticks(rotation=15);\n",
    "plt.title('A pointplot of tweet_day vs mean_rating');\n",
    "\n",
    "plt.subplot(1,2,2)\n",
    "sns.pointplot(data=df, x='tweet_month', y='mean_rating', linestyles=\"\")\n",
    "plt.xticks(rotation=30);\n",
    "plt.title('A pointplot of tweet_month vs mean_rating');"
   ]
  },
  {
   "cell_type": "code",
   "execution_count": 243,
   "metadata": {},
   "outputs": [
    {
     "data": {
      "image/png": "[encoded data removed]",
      "text/plain": [
       "<Figure size 432x288 with 1 Axes>"
      ]
     },
     "metadata": {
      "needs_background": "light"
     },
     "output_type": "display_data"
    }
   ],
   "source": [
    "#plot a pointplot of tweet year vs mean rating \n",
    "sns.pointplot(data=df, x='tweet_year', y='mean_rating', linestyles=\"\")\n",
    "plt.xticks(rotation=15);\n",
    "plt.title('A pointplot of tweet_year vs mean_rating');"
   ]
  },
  {
   "cell_type": "markdown",
   "metadata": {},
   "source": [
    ">**Observation**: Based on the visualization plots illustrated above, Tweets on dog rates are usually issued on Mondays for week days and more commonly in December of a year. It is also observed that the latter and early part of the year shows high dog rates tweets. Generally high mean dog ratings are usually given in the month of July, while 2016 and 2017 shows an high increase in dog rate mean rating. This may be as a result of an increase in dog rate tweet popularity."
   ]
  },
  {
   "cell_type": "markdown",
   "metadata": {},
   "source": [
    "### Research Question 2  - Impact of display_text_range on tweet ratings "
   ]
  },
  {
   "cell_type": "code",
   "execution_count": 244,
   "metadata": {},
   "outputs": [
    {
     "data": {
      "text/plain": [
       "count    1994.000000\n",
       "mean      111.522568\n",
       "std        26.493668\n",
       "min        13.000000\n",
       "25%        94.000000\n",
       "50%       116.000000\n",
       "75%       137.000000\n",
       "max       148.000000\n",
       "Name: display_text_range, dtype: float64"
      ]
     },
     "execution_count": 244,
     "metadata": {},
     "output_type": "execute_result"
    }
   ],
   "source": [
    "df['display_text_range'].describe()"
   ]
  },
  {
   "cell_type": "code",
   "execution_count": 245,
   "metadata": {},
   "outputs": [
    {
     "data": {
      "image/png": "[encoded data removed]",
      "text/plain": [
       "<Figure size 864x360 with 1 Axes>"
      ]
     },
     "metadata": {
      "needs_background": "light"
     },
     "output_type": "display_data"
    }
   ],
   "source": [
    "#Use matplotlib hist plot function to explore the display text range distribution\n",
    "\n",
    "plt.figure(figsize=[12,5])\n",
    "bins = np.arange(0,df['display_text_range'].max()+1.1,5)\n",
    "plt.hist(data=df, x='display_text_range', bins=bins);\n",
    "plt.xlabel('display_text_range');\n",
    "plt.ylabel('Counts');\n",
    "plt.title('A countplot of display_text_range');"
   ]
  },
  {
   "cell_type": "code",
   "execution_count": 246,
   "metadata": {},
   "outputs": [
    {
     "data": {
      "text/plain": [
       "count    1994.000000\n",
       "mean        1.169249\n",
       "std         4.067071\n",
       "min         0.000000\n",
       "25%         1.000000\n",
       "50%         1.100000\n",
       "75%         1.200000\n",
       "max       177.600000\n",
       "Name: mean_rating, dtype: float64"
      ]
     },
     "execution_count": 246,
     "metadata": {},
     "output_type": "execute_result"
    }
   ],
   "source": [
    "df['mean_rating'].describe()"
   ]
  },
  {
   "cell_type": "code",
   "execution_count": 247,
   "metadata": {},
   "outputs": [
    {
     "data": {
      "image/png": "[encoded data removed]",
      "text/plain": [
       "<Figure size 864x360 with 3 Axes>"
      ]
     },
     "metadata": {
      "needs_background": "light"
     },
     "output_type": "display_data"
    }
   ],
   "source": [
    "#The use of scatterplot and heatmap to explore the display text range  vs mean ratings distribution\n",
    "plt.figure(figsize=[12,5])\n",
    "\n",
    "plt.subplot(1,2,1)\n",
    "sns.regplot(data=df, x='display_text_range', y='mean_rating');\n",
    "plt.ylim((0,2))\n",
    "plt.title('A scatterplot of display_text_range vs mean_rating');\n",
    "\n",
    "plt.subplot(1,2,2)\n",
    "bins_x = np.arange(0, 148+1.1, 5)\n",
    "bins_y = np.arange(0, 2.6+0.1, 0.1)\n",
    "plt.hist2d(data=df, x='display_text_range', y='mean_rating', cmin=0.5, cmap='viridis_r', bins=[bins_x, bins_y]);\n",
    "plt.ylim((0,2))\n",
    "plt.colorbar()\n",
    "plt.xlabel('display_text_range')\n",
    "plt.title('A heatmap plot of display_text_range vs mean_rating');"
   ]
  },
  {
   "cell_type": "code",
   "execution_count": 248,
   "metadata": {},
   "outputs": [
    {
     "data": {
      "image/png": "[encoded data removed]",
      "text/plain": [
       "<Figure size 720x360 with 1 Axes>"
      ]
     },
     "metadata": {
      "needs_background": "light"
     },
     "output_type": "display_data"
    }
   ],
   "source": [
    "#boxplot of dog_type group vs display_text_range\n",
    "plt.figure(figsize=[10,5])\n",
    "sns.boxplot(data=df, x='dog_type', y='display_text_range');\n",
    "plt.title('A boxplot of display_text_range vs dog_type');"
   ]
  },
  {
   "cell_type": "markdown",
   "metadata": {},
   "source": [
    ">**Observation**: Results shows that 75% of display_text_range is about 137 characters. Furthermore, it is not quite clear how mean dog ratings are affected by length of display_text_range. However, is a very minor tendencies that the longer the display text chat the less the mean dog rating. The heatmap plot show that many of the distant_text_range characters fall between 130-137 for a peak mean rating of 1.13-1.20. Based on the box plot above, the median population of the dog types are almost the same, however, display_text_range with pupper dog types have a little bit higher number of characters than other dog types apart from 'None'.   "
   ]
  },
  {
   "cell_type": "markdown",
   "metadata": {},
   "source": [
    "### Research Question 3  - Impact of dog_type on tweet ratings"
   ]
  },
  {
   "cell_type": "code",
   "execution_count": 249,
   "metadata": {},
   "outputs": [
    {
     "data": {
      "text/html": [
       "<div>\n",
       "<style scoped>\n",
       "    .dataframe tbody tr th:only-of-type {\n",
       "        vertical-align: middle;\n",
       "    }\n",
       "\n",
       "    .dataframe tbody tr th {\n",
       "        vertical-align: top;\n",
       "    }\n",
       "\n",
       "    .dataframe thead th {\n",
       "        text-align: right;\n",
       "    }\n",
       "</style>\n",
       "<table border=\"1\" class=\"dataframe\">\n",
       "  <thead>\n",
       "    <tr style=\"text-align: right;\">\n",
       "      <th></th>\n",
       "      <th>tweet_id</th>\n",
       "      <th>name</th>\n",
       "      <th>tweet_year</th>\n",
       "      <th>tweet_month</th>\n",
       "      <th>tweet_day</th>\n",
       "      <th>mean_rating</th>\n",
       "      <th>dog_type</th>\n",
       "      <th>p1</th>\n",
       "      <th>p1_conf</th>\n",
       "      <th>p1_dog</th>\n",
       "      <th>...</th>\n",
       "      <th>p2_dog</th>\n",
       "      <th>p3</th>\n",
       "      <th>p3_conf</th>\n",
       "      <th>p3_dog</th>\n",
       "      <th>display_text_range</th>\n",
       "      <th>is_quote_status</th>\n",
       "      <th>retweet_count</th>\n",
       "      <th>favorite_count</th>\n",
       "      <th>favorited</th>\n",
       "      <th>lang</th>\n",
       "    </tr>\n",
       "  </thead>\n",
       "  <tbody>\n",
       "    <tr>\n",
       "      <th>332</th>\n",
       "      <td>819006400881917954</td>\n",
       "      <td>Sunny</td>\n",
       "      <td>2017</td>\n",
       "      <td>January</td>\n",
       "      <td>Wednesday</td>\n",
       "      <td>1.4</td>\n",
       "      <td>doggo</td>\n",
       "      <td>Prison</td>\n",
       "      <td>0.907083</td>\n",
       "      <td>False</td>\n",
       "      <td>...</td>\n",
       "      <td>False</td>\n",
       "      <td>Umbrella</td>\n",
       "      <td>0.007850</td>\n",
       "      <td>False</td>\n",
       "      <td>97</td>\n",
       "      <td>False</td>\n",
       "      <td>21794</td>\n",
       "      <td>49960</td>\n",
       "      <td>False</td>\n",
       "      <td>en</td>\n",
       "    </tr>\n",
       "    <tr>\n",
       "      <th>87</th>\n",
       "      <td>871879754684805121</td>\n",
       "      <td>Lassie</td>\n",
       "      <td>2017</td>\n",
       "      <td>June</td>\n",
       "      <td>Tuesday</td>\n",
       "      <td>1.3</td>\n",
       "      <td>None</td>\n",
       "      <td>Shetland_Sheepdog</td>\n",
       "      <td>0.969171</td>\n",
       "      <td>True</td>\n",
       "      <td>...</td>\n",
       "      <td>True</td>\n",
       "      <td>Pomeranian</td>\n",
       "      <td>0.008515</td>\n",
       "      <td>True</td>\n",
       "      <td>136</td>\n",
       "      <td>False</td>\n",
       "      <td>11918</td>\n",
       "      <td>39090</td>\n",
       "      <td>False</td>\n",
       "      <td>en</td>\n",
       "    </tr>\n",
       "    <tr>\n",
       "      <th>1687</th>\n",
       "      <td>671536543010570240</td>\n",
       "      <td>Reginald</td>\n",
       "      <td>2015</td>\n",
       "      <td>December</td>\n",
       "      <td>Tuesday</td>\n",
       "      <td>0.9</td>\n",
       "      <td>None</td>\n",
       "      <td>Pug</td>\n",
       "      <td>0.537652</td>\n",
       "      <td>True</td>\n",
       "      <td>...</td>\n",
       "      <td>True</td>\n",
       "      <td>French_Bulldog</td>\n",
       "      <td>0.068296</td>\n",
       "      <td>True</td>\n",
       "      <td>130</td>\n",
       "      <td>False</td>\n",
       "      <td>441</td>\n",
       "      <td>1253</td>\n",
       "      <td>False</td>\n",
       "      <td>en</td>\n",
       "    </tr>\n",
       "  </tbody>\n",
       "</table>\n",
       "<p>3 rows × 22 columns</p>\n",
       "</div>"
      ],
      "text/plain": [
       "                tweet_id      name  tweet_year tweet_month  tweet_day  \\\n",
       "332   819006400881917954     Sunny        2017     January  Wednesday   \n",
       "87    871879754684805121    Lassie        2017        June    Tuesday   \n",
       "1687  671536543010570240  Reginald        2015    December    Tuesday   \n",
       "\n",
       "      mean_rating dog_type                 p1   p1_conf  p1_dog  ... p2_dog  \\\n",
       "332           1.4    doggo             Prison  0.907083   False  ...  False   \n",
       "87            1.3     None  Shetland_Sheepdog  0.969171    True  ...   True   \n",
       "1687          0.9     None                Pug  0.537652    True  ...   True   \n",
       "\n",
       "                  p3   p3_conf p3_dog  display_text_range  is_quote_status  \\\n",
       "332         Umbrella  0.007850  False                  97            False   \n",
       "87        Pomeranian  0.008515   True                 136            False   \n",
       "1687  French_Bulldog  0.068296   True                 130            False   \n",
       "\n",
       "      retweet_count  favorite_count  favorited  lang  \n",
       "332           21794           49960      False    en  \n",
       "87            11918           39090      False    en  \n",
       "1687            441            1253      False    en  \n",
       "\n",
       "[3 rows x 22 columns]"
      ]
     },
     "execution_count": 249,
     "metadata": {},
     "output_type": "execute_result"
    }
   ],
   "source": [
    "# random sampling of dataset\n",
    "df.sample(3)"
   ]
  },
  {
   "cell_type": "code",
   "execution_count": 250,
   "metadata": {},
   "outputs": [
    {
     "data": {
      "text/plain": [
       "None       1688\n",
       "pupper      212\n",
       "doggo        63\n",
       "puppo        23\n",
       "floofer       8\n",
       "Name: dog_type, dtype: int64"
      ]
     },
     "execution_count": 250,
     "metadata": {},
     "output_type": "execute_result"
    }
   ],
   "source": [
    "df['dog_type'].value_counts()"
   ]
  },
  {
   "cell_type": "code",
   "execution_count": 251,
   "metadata": {},
   "outputs": [
    {
     "data": {
      "image/png": "[encoded data removed]",
      "text/plain": [
       "<Figure size 864x360 with 2 Axes>"
      ]
     },
     "metadata": {
      "needs_background": "light"
     },
     "output_type": "display_data"
    }
   ],
   "source": [
    "# A plot of favourite count vs dog type and retweet_count vs dog_type\n",
    "plt.figure(figsize=[12,5])\n",
    "\n",
    "plt.subplot(1,2,1)\n",
    "sns.boxplot(data=df, x='dog_type', y='favorite_count');\n",
    "plt.ylim((0,40000))\n",
    "plt.title('A boxplot of favourite_count vs dog_type');\n",
    "\n",
    "plt.subplot(1,2,2)\n",
    "sns.boxplot(data=df, x='dog_type', y='retweet_count');\n",
    "plt.ylim((0,15000))\n",
    "plt.title('A boxplot of retweet_count vs dog_type');"
   ]
  },
  {
   "cell_type": "code",
   "execution_count": 252,
   "metadata": {},
   "outputs": [
    {
     "data": {
      "image/png": "[encoded data removed]",
      "text/plain": [
       "<Figure size 864x360 with 1 Axes>"
      ]
     },
     "metadata": {
      "needs_background": "light"
     },
     "output_type": "display_data"
    }
   ],
   "source": [
    "#plot of retweet count vs favourite count\n",
    "plt.figure(figsize=[12,5])\n",
    "sns.regplot(data=df, x='retweet_count', y='favorite_count');\n",
    "plt.title('A scatterplot of retweet_count vs favourite_count');"
   ]
  },
  {
   "cell_type": "markdown",
   "metadata": {},
   "source": [
    ">**Observation**: Results from the plot above shows that generally puppo dog type have a higher favorite count than other dog types while tweets with doggo and puppo have the highest retweet ratings. From the above favorite_count vs retweet count plot indicates a postive linear plot distribution. "
   ]
  },
  {
   "cell_type": "markdown",
   "metadata": {},
   "source": [
    "<a id='conclusions'></a>\n",
    "## Conclusions\n",
    "\n",
    "**Limitation**:\n",
    "- Data analysis done in project is based on the level of data cleaning and data assessment done prior before exploration. Also the dataset are not well balanced across all features and observations. Future work entails proper data assessment, feature engineering and more data collation  \n",
    "\n",
    "**Summary**: \n",
    "- The favourite_count and retweet_counts are positively, linearly correlated. Generally, based on this data analysed, puppo dog_types tweets tend to get more favourite counts than others. While doggo and puppo dog types tweets have the highest median  retweeted counts.\n",
    "\n",
    "- There is a slight negative correlation between display text chat range and mean dog rating assigned\n",
    "\n",
    "- Many of the distant_text_range characters for a tweet falls between 130-137 for a peak mean rating of 1.13-1.20. With about  75% of display_text_range of tweets at 137 characters.\n",
    "\n",
    "- Tweets on dog rates are usually issued on Mondays for week days and more commonly in December of a year. It is also observed that the latter and early part of the year shows high dog rates tweets.  \n",
    "\n",
    "- Tweets from the year 2016 and 2017 shows an high increase in dog rate mean rating. This may be as a result of an increase in dog rate tweet popularity."
   ]
  },
  {
   "cell_type": "code",
   "execution_count": 68,
   "metadata": {},
   "outputs": [
    {
     "data": {
      "text/plain": [
       "4294967295"
      ]
     },
     "execution_count": 68,
     "metadata": {},
     "output_type": "execute_result"
    }
   ],
   "source": [
    "from subprocess import call\n",
    "call(['python', '-m', 'nbconvert', 'Investigate_a_Dataset.ipynb'])"
   ]
  },
  {
   "cell_type": "code",
   "execution_count": null,
   "metadata": {},
   "outputs": [],
   "source": []
  }
 ],
 "metadata": {
  "kernelspec": {
   "display_name": "Python 3 (ipykernel)",
   "language": "python",
   "name": "python3"
  },
  "language_info": {
   "codemirror_mode": {
    "name": "ipython",
    "version": 3
   },
   "file_extension": ".py",
   "mimetype": "text/x-python",
   "name": "python",
   "nbconvert_exporter": "python",
   "pygments_lexer": "ipython3",
   "version": "3.9.12"
  }
 },
 "nbformat": 4,
 "nbformat_minor": 2
}
